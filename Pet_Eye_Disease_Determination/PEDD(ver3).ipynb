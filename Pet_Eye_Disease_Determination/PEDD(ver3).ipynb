{
 "cells": [
  {
   "cell_type": "markdown",
   "id": "fc4f8c38",
   "metadata": {},
   "source": [
    "# 반려동물 안구질환 판정 모델"
   ]
  },
  {
   "cell_type": "markdown",
   "id": "a322242d",
   "metadata": {},
   "source": [
    "##### 해당 모델은 AI hub의 제공 데이터셋을 활용했습니다."
   ]
  },
  {
   "cell_type": "markdown",
   "id": "3695ccf7",
   "metadata": {},
   "source": [
    "### 데이터셋 입력"
   ]
  },
  {
   "cell_type": "code",
   "execution_count": 1,
   "id": "1967f199",
   "metadata": {},
   "outputs": [],
   "source": [
    "import numpy as np\n",
    "import pandas as pd\n",
    "import matplotlib.pyplot as plt\n",
    "from PIL import Image\n",
    "import json\n",
    "import os, glob\n",
    "import shutil\n",
    "from sklearn.model_selection import train_test_split\n",
    "from keras.preprocessing import image\n",
    "from tensorflow import keras"
   ]
  },
  {
   "cell_type": "code",
   "execution_count": 9,
   "id": "e548ba7d",
   "metadata": {},
   "outputs": [],
   "source": [
    "caltech_dir = '/Users/hk/Desktop/AI/Project/PEDD/dataset/pet_eyedisease/train'\n",
    "categories = ['Y', 'N']\n",
    "nb_classes = len(categories)"
   ]
  },
  {
   "cell_type": "code",
   "execution_count": 13,
   "id": "05a95cc6",
   "metadata": {},
   "outputs": [],
   "source": [
    "image_w = 256\n",
    "image_h = 256\n",
    "\n",
    "pixels = image_h * image_w * 3\n",
    "\n",
    "X = []\n",
    "Y = []\n",
    "\n",
    "for idx, cat in enumerate(categories):\n",
    "    label = [0 for i in range(nb_classes)]\n",
    "    label[idx] = 1\n",
    "    \n",
    "    image_dir = caltech_dir + '/' + cat\n",
    "    files = glob.glob(image_dir+'/*.jpg')\n",
    "    \n",
    "    for i, f in enumerate(files):\n",
    "        img = Image.open(f)\n",
    "        img = img.convert('RGB')\n",
    "        img = img.resize((256, 256))\n",
    "        data = np.asarray(img)\n",
    "        \n",
    "        X.append(data)\n",
    "        Y.append(label)"
   ]
  },
  {
   "cell_type": "code",
   "execution_count": 14,
   "id": "64547088",
   "metadata": {},
   "outputs": [],
   "source": [
    "X = np.array(X)\n",
    "Y = np.array(Y)"
   ]
  },
  {
   "cell_type": "code",
   "execution_count": 15,
   "id": "38159467",
   "metadata": {},
   "outputs": [],
   "source": [
    "train_input, val_input, train_target, val_target = train_test_split(\n",
    "    X, Y, test_size=0.2)"
   ]
  },
  {
   "cell_type": "code",
   "execution_count": 16,
   "id": "91bcf98d",
   "metadata": {},
   "outputs": [
    {
     "data": {
      "text/plain": [
       "(753, 256, 256, 3)"
      ]
     },
     "execution_count": 16,
     "metadata": {},
     "output_type": "execute_result"
    }
   ],
   "source": [
    "train_input.shape"
   ]
  },
  {
   "cell_type": "markdown",
   "id": "82f133e2",
   "metadata": {},
   "source": [
    "### 모델 생성"
   ]
  },
  {
   "cell_type": "code",
   "execution_count": 17,
   "id": "d38c11bf",
   "metadata": {},
   "outputs": [
    {
     "name": "stdout",
     "output_type": "stream",
     "text": [
      "Model: \"sequential\"\n",
      "_________________________________________________________________\n",
      " Layer (type)                Output Shape              Param #   \n",
      "=================================================================\n",
      " conv2d (Conv2D)             (None, 256, 256, 32)      13856     \n",
      "                                                                 \n",
      " max_pooling2d (MaxPooling2D  (None, 32, 32, 32)       0         \n",
      " )                                                               \n",
      "                                                                 \n",
      " dropout (Dropout)           (None, 32, 32, 32)        0         \n",
      "                                                                 \n",
      " conv2d_1 (Conv2D)           (None, 32, 32, 64)        294976    \n",
      "                                                                 \n",
      " max_pooling2d_1 (MaxPooling  (None, 4, 4, 64)         0         \n",
      " 2D)                                                             \n",
      "                                                                 \n",
      " dropout_1 (Dropout)         (None, 4, 4, 64)          0         \n",
      "                                                                 \n",
      " flatten (Flatten)           (None, 1024)              0         \n",
      "                                                                 \n",
      " dense (Dense)               (None, 256)               262400    \n",
      "                                                                 \n",
      " dropout_2 (Dropout)         (None, 256)               0         \n",
      "                                                                 \n",
      " dense_1 (Dense)             (None, 2)                 514       \n",
      "                                                                 \n",
      "=================================================================\n",
      "Total params: 571,746\n",
      "Trainable params: 571,746\n",
      "Non-trainable params: 0\n",
      "_________________________________________________________________\n"
     ]
    }
   ],
   "source": [
    "model = keras.Sequential()\n",
    "model.add(keras.layers.Conv2D(32, kernel_size=(12, 12), padding='same', activation='relu', input_shape=(256, 256, 3)))\n",
    "model.add(keras.layers.MaxPooling2D(pool_size=(8, 8)))\n",
    "model.add(keras.layers.Dropout(0.25))\n",
    "\n",
    "model.add(keras.layers.Conv2D(64, kernel_size=(12, 12), padding='same', activation='relu', input_shape=(256, 256, 3)))\n",
    "model.add(keras.layers.MaxPooling2D(pool_size=(8, 8)))\n",
    "model.add(keras.layers.Dropout(0.25))\n",
    "\n",
    "model.add(keras.layers.Flatten())\n",
    "model.add(keras.layers.Dense(256, activation='relu'))\n",
    "model.add(keras.layers.Dropout(0.25))\n",
    "model.add(keras.layers.Dense(nb_classes, activation='softmax'))\n",
    "\n",
    "model.summary()"
   ]
  },
  {
   "cell_type": "code",
   "execution_count": 18,
   "id": "58b4528f",
   "metadata": {},
   "outputs": [],
   "source": [
    "model.compile(loss='binary_crossentropy', optimizer='adam', metrics='accuracy')"
   ]
  },
  {
   "cell_type": "markdown",
   "id": "7fc52860",
   "metadata": {},
   "source": [
    "### 훈련"
   ]
  },
  {
   "cell_type": "code",
   "execution_count": 19,
   "id": "f950cb6c",
   "metadata": {},
   "outputs": [
    {
     "name": "stdout",
     "output_type": "stream",
     "text": [
      "Epoch 1/20\n",
      "24/24 [==============================] - 27s 1s/step - loss: 6.7356 - accuracy: 0.6574 - val_loss: 0.5866 - val_accuracy: 0.6984\n",
      "Epoch 2/20\n",
      "24/24 [==============================] - 27s 1s/step - loss: 0.5195 - accuracy: 0.7397 - val_loss: 0.4727 - val_accuracy: 0.8783\n",
      "Epoch 3/20\n",
      "24/24 [==============================] - 28s 1s/step - loss: 0.4363 - accuracy: 0.8287 - val_loss: 0.3234 - val_accuracy: 0.9153\n",
      "Epoch 4/20\n",
      "24/24 [==============================] - 27s 1s/step - loss: 0.3603 - accuracy: 0.8845 - val_loss: 0.2406 - val_accuracy: 0.9153\n",
      "Epoch 5/20\n",
      "24/24 [==============================] - 27s 1s/step - loss: 0.3562 - accuracy: 0.8752 - val_loss: 0.3305 - val_accuracy: 0.9153\n",
      "Epoch 6/20\n",
      "24/24 [==============================] - 27s 1s/step - loss: 0.3103 - accuracy: 0.8924 - val_loss: 0.2251 - val_accuracy: 0.9259\n",
      "Epoch 7/20\n",
      "24/24 [==============================] - 28s 1s/step - loss: 0.2169 - accuracy: 0.9283 - val_loss: 0.1649 - val_accuracy: 0.9418\n",
      "Epoch 8/20\n",
      "24/24 [==============================] - 28s 1s/step - loss: 0.2437 - accuracy: 0.9124 - val_loss: 0.2429 - val_accuracy: 0.9312\n",
      "Epoch 9/20\n",
      "24/24 [==============================] - 27s 1s/step - loss: 0.2530 - accuracy: 0.9163 - val_loss: 0.3104 - val_accuracy: 0.8889\n"
     ]
    }
   ],
   "source": [
    "checkpoint_cb = keras.callbacks.ModelCheckpoint('best-cnn-model.h5',\n",
    "                                                 save_best_only=True)\n",
    "early_stopping_cb = keras.callbacks.EarlyStopping(patience=2,\n",
    "                                                  restore_best_weights=True)\n",
    "\n",
    "history = model.fit(train_input, train_target, epochs=20,\n",
    "                   validation_data=(val_input, val_target),\n",
    "                   callbacks=[checkpoint_cb, early_stopping_cb])"
   ]
  },
  {
   "cell_type": "code",
   "execution_count": 20,
   "id": "eceaa72f",
   "metadata": {},
   "outputs": [
    {
     "data": {
      "image/png": "[encoded data removed]",
      "text/plain": [
       "<Figure size 640x480 with 1 Axes>"
      ]
     },
     "metadata": {},
     "output_type": "display_data"
    }
   ],
   "source": [
    "import matplotlib.pyplot as plt\n",
    "plt.plot(history.history['loss'])\n",
    "plt.plot(history.history['val_loss'])\n",
    "plt.xlabel('epoch')\n",
    "plt.ylabel('loss')\n",
    "plt.legend(['train', 'val'])\n",
    "plt.show()"
   ]
  },
  {
   "cell_type": "markdown",
   "id": "b1e08066",
   "metadata": {},
   "source": [
    "### 모델 평가"
   ]
  },
  {
   "cell_type": "code",
   "execution_count": 21,
   "id": "4966d31f",
   "metadata": {},
   "outputs": [
    {
     "name": "stdout",
     "output_type": "stream",
     "text": [
      "6/6 [==============================] - 1s 116ms/step - loss: 0.1649 - accuracy: 0.9418\n"
     ]
    },
    {
     "data": {
      "text/plain": [
       "[0.16492673754692078, 0.9417989253997803]"
      ]
     },
     "execution_count": 21,
     "metadata": {},
     "output_type": "execute_result"
    }
   ],
   "source": [
    "model.evaluate(val_input, val_target)"
   ]
  }
 ],
 "metadata": {
  "kernelspec": {
   "display_name": "Python 3 (ipykernel)",
   "language": "python",
   "name": "python3"
  },
  "language_info": {
   "codemirror_mode": {
    "name": "ipython",
    "version": 3
   },
   "file_extension": ".py",
   "mimetype": "text/x-python",
   "name": "python",
   "nbconvert_exporter": "python",
   "pygments_lexer": "ipython3",
   "version": "3.9.13"
  }
 },
 "nbformat": 4,
 "nbformat_minor": 5
}
