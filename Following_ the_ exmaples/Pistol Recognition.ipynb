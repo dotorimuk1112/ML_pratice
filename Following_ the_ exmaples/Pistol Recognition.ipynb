{
  "nbformat": 4,
  "nbformat_minor": 0,
  "metadata": {
    "colab": {
      "provenance": []
    },
    "kernelspec": {
      "name": "python3",
      "display_name": "Python 3"
    },
    "language_info": {
      "name": "python"
    },
    "accelerator": "GPU",
    "gpuClass": "standard"
  },
  "cells": [
    {
      "cell_type": "code",
      "execution_count": null,
      "metadata": {
        "id": "tuvlwKOXLm1B"
      },
      "outputs": [],
      "source": [
        "!curl -L \"https://public.roboflow.com/ds/wpp7N0D0xe?key=I2fZ50ZNAb\" > roboflow.zip; unzip roboflow.zip; rm roboflow.zip"
      ]
    },
    {
      "cell_type": "code",
      "source": [
        "%cd /content\n",
        "!git clone https://github.com/ultralytics/yolov5.git"
      ],
      "metadata": {
        "colab": {
          "base_uri": "https://localhost:8080/"
        },
        "id": "8C9blAQrL3d_",
        "outputId": "f3d5f0f2-ac4c-465d-c1ac-facd60b594f5"
      },
      "execution_count": 2,
      "outputs": [
        {
          "output_type": "stream",
          "name": "stdout",
          "text": [
            "/content\n",
            "Cloning into 'yolov5'...\n",
            "remote: Enumerating objects: 15218, done.\u001b[K\n",
            "remote: Total 15218 (delta 0), reused 0 (delta 0), pack-reused 15218\u001b[K\n",
            "Receiving objects: 100% (15218/15218), 14.09 MiB | 12.62 MiB/s, done.\n",
            "Resolving deltas: 100% (10444/10444), done.\n"
          ]
        }
      ]
    },
    {
      "cell_type": "code",
      "source": [
        "%cd /content/yolov5/\n",
        "!pip install -r requirements.txt"
      ],
      "metadata": {
        "id": "G7AavoVxMjxh",
        "colab": {
          "base_uri": "https://localhost:8080/"
        },
        "outputId": "4d491902-7d2b-4f04-a290-8a95d6b4eaf2"
      },
      "execution_count": 3,
      "outputs": [
        {
          "output_type": "stream",
          "name": "stdout",
          "text": [
            "/content/yolov5\n",
            "Looking in indexes: https://pypi.org/simple, https://us-python.pkg.dev/colab-wheels/public/simple/\n",
            "Collecting gitpython\n",
            "  Downloading GitPython-3.1.31-py3-none-any.whl (184 kB)\n",
            "\u001b[2K     \u001b[90m━━━━━━━━━━━━━━━━━━━━━━━━━━━━━━━━━━━━━━\u001b[0m \u001b[32m184.3/184.3 KB\u001b[0m \u001b[31m16.2 MB/s\u001b[0m eta \u001b[36m0:00:00\u001b[0m\n",
            "\u001b[?25hRequirement already satisfied: ipython in /usr/local/lib/python3.8/dist-packages (from -r requirements.txt (line 6)) (7.9.0)\n",
            "Requirement already satisfied: matplotlib>=3.2.2 in /usr/local/lib/python3.8/dist-packages (from -r requirements.txt (line 7)) (3.2.2)\n",
            "Requirement already satisfied: numpy>=1.18.5 in /usr/local/lib/python3.8/dist-packages (from -r requirements.txt (line 8)) (1.21.6)\n",
            "Requirement already satisfied: opencv-python>=4.1.1 in /usr/local/lib/python3.8/dist-packages (from -r requirements.txt (line 9)) (4.6.0.66)\n",
            "Requirement already satisfied: Pillow>=7.1.2 in /usr/local/lib/python3.8/dist-packages (from -r requirements.txt (line 10)) (7.1.2)\n",
            "Requirement already satisfied: psutil in /usr/local/lib/python3.8/dist-packages (from -r requirements.txt (line 11)) (5.4.8)\n",
            "Requirement already satisfied: PyYAML>=5.3.1 in /usr/local/lib/python3.8/dist-packages (from -r requirements.txt (line 12)) (6.0)\n",
            "Requirement already satisfied: requests>=2.23.0 in /usr/local/lib/python3.8/dist-packages (from -r requirements.txt (line 13)) (2.25.1)\n",
            "Requirement already satisfied: scipy>=1.4.1 in /usr/local/lib/python3.8/dist-packages (from -r requirements.txt (line 14)) (1.7.3)\n",
            "Collecting thop>=0.1.1\n",
            "  Downloading thop-0.1.1.post2209072238-py3-none-any.whl (15 kB)\n",
            "Requirement already satisfied: torch>=1.7.0 in /usr/local/lib/python3.8/dist-packages (from -r requirements.txt (line 16)) (1.13.1+cu116)\n",
            "Requirement already satisfied: torchvision>=0.8.1 in /usr/local/lib/python3.8/dist-packages (from -r requirements.txt (line 17)) (0.14.1+cu116)\n",
            "Requirement already satisfied: tqdm>=4.64.0 in /usr/local/lib/python3.8/dist-packages (from -r requirements.txt (line 18)) (4.64.1)\n",
            "Requirement already satisfied: tensorboard>=2.4.1 in /usr/local/lib/python3.8/dist-packages (from -r requirements.txt (line 22)) (2.11.2)\n",
            "Requirement already satisfied: pandas>=1.1.4 in /usr/local/lib/python3.8/dist-packages (from -r requirements.txt (line 27)) (1.3.5)\n",
            "Requirement already satisfied: seaborn>=0.11.0 in /usr/local/lib/python3.8/dist-packages (from -r requirements.txt (line 28)) (0.11.2)\n",
            "Collecting setuptools>=65.5.1\n",
            "  Downloading setuptools-67.3.2-py3-none-any.whl (1.1 MB)\n",
            "\u001b[2K     \u001b[90m━━━━━━━━━━━━━━━━━━━━━━━━━━━━━━━━━━━━━━━━\u001b[0m \u001b[32m1.1/1.1 MB\u001b[0m \u001b[31m71.6 MB/s\u001b[0m eta \u001b[36m0:00:00\u001b[0m\n",
            "\u001b[?25hRequirement already satisfied: wheel>=0.38.0 in /usr/local/lib/python3.8/dist-packages (from -r requirements.txt (line 43)) (0.38.4)\n",
            "Collecting gitdb<5,>=4.0.1\n",
            "  Downloading gitdb-4.0.10-py3-none-any.whl (62 kB)\n",
            "\u001b[2K     \u001b[90m━━━━━━━━━━━━━━━━━━━━━━━━━━━━━━━━━━━━━━━━\u001b[0m \u001b[32m62.7/62.7 KB\u001b[0m \u001b[31m8.0 MB/s\u001b[0m eta \u001b[36m0:00:00\u001b[0m\n",
            "\u001b[?25hRequirement already satisfied: prompt-toolkit<2.1.0,>=2.0.0 in /usr/local/lib/python3.8/dist-packages (from ipython->-r requirements.txt (line 6)) (2.0.10)\n",
            "Requirement already satisfied: pygments in /usr/local/lib/python3.8/dist-packages (from ipython->-r requirements.txt (line 6)) (2.6.1)\n",
            "Collecting jedi>=0.10\n",
            "  Downloading jedi-0.18.2-py2.py3-none-any.whl (1.6 MB)\n",
            "\u001b[2K     \u001b[90m━━━━━━━━━━━━━━━━━━━━━━━━━━━━━━━━━━━━━━━━\u001b[0m \u001b[32m1.6/1.6 MB\u001b[0m \u001b[31m74.6 MB/s\u001b[0m eta \u001b[36m0:00:00\u001b[0m\n",
            "\u001b[?25hRequirement already satisfied: traitlets>=4.2 in /usr/local/lib/python3.8/dist-packages (from ipython->-r requirements.txt (line 6)) (5.7.1)\n",
            "Requirement already satisfied: pexpect in /usr/local/lib/python3.8/dist-packages (from ipython->-r requirements.txt (line 6)) (4.8.0)\n",
            "Requirement already satisfied: decorator in /usr/local/lib/python3.8/dist-packages (from ipython->-r requirements.txt (line 6)) (4.4.2)\n",
            "Requirement already satisfied: pickleshare in /usr/local/lib/python3.8/dist-packages (from ipython->-r requirements.txt (line 6)) (0.7.5)\n",
            "Requirement already satisfied: backcall in /usr/local/lib/python3.8/dist-packages (from ipython->-r requirements.txt (line 6)) (0.2.0)\n",
            "Requirement already satisfied: python-dateutil>=2.1 in /usr/local/lib/python3.8/dist-packages (from matplotlib>=3.2.2->-r requirements.txt (line 7)) (2.8.2)\n",
            "Requirement already satisfied: kiwisolver>=1.0.1 in /usr/local/lib/python3.8/dist-packages (from matplotlib>=3.2.2->-r requirements.txt (line 7)) (1.4.4)\n",
            "Requirement already satisfied: pyparsing!=2.0.4,!=2.1.2,!=2.1.6,>=2.0.1 in /usr/local/lib/python3.8/dist-packages (from matplotlib>=3.2.2->-r requirements.txt (line 7)) (3.0.9)\n",
            "Requirement already satisfied: cycler>=0.10 in /usr/local/lib/python3.8/dist-packages (from matplotlib>=3.2.2->-r requirements.txt (line 7)) (0.11.0)\n",
            "Requirement already satisfied: chardet<5,>=3.0.2 in /usr/local/lib/python3.8/dist-packages (from requests>=2.23.0->-r requirements.txt (line 13)) (4.0.0)\n",
            "Requirement already satisfied: idna<3,>=2.5 in /usr/local/lib/python3.8/dist-packages (from requests>=2.23.0->-r requirements.txt (line 13)) (2.10)\n",
            "Requirement already satisfied: urllib3<1.27,>=1.21.1 in /usr/local/lib/python3.8/dist-packages (from requests>=2.23.0->-r requirements.txt (line 13)) (1.24.3)\n",
            "Requirement already satisfied: certifi>=2017.4.17 in /usr/local/lib/python3.8/dist-packages (from requests>=2.23.0->-r requirements.txt (line 13)) (2022.12.7)\n",
            "Requirement already satisfied: typing-extensions in /usr/local/lib/python3.8/dist-packages (from torch>=1.7.0->-r requirements.txt (line 16)) (4.5.0)\n",
            "Requirement already satisfied: werkzeug>=1.0.1 in /usr/local/lib/python3.8/dist-packages (from tensorboard>=2.4.1->-r requirements.txt (line 22)) (1.0.1)\n",
            "Requirement already satisfied: protobuf<4,>=3.9.2 in /usr/local/lib/python3.8/dist-packages (from tensorboard>=2.4.1->-r requirements.txt (line 22)) (3.19.6)\n",
            "Requirement already satisfied: tensorboard-data-server<0.7.0,>=0.6.0 in /usr/local/lib/python3.8/dist-packages (from tensorboard>=2.4.1->-r requirements.txt (line 22)) (0.6.1)\n",
            "Requirement already satisfied: grpcio>=1.24.3 in /usr/local/lib/python3.8/dist-packages (from tensorboard>=2.4.1->-r requirements.txt (line 22)) (1.51.1)\n",
            "Requirement already satisfied: markdown>=2.6.8 in /usr/local/lib/python3.8/dist-packages (from tensorboard>=2.4.1->-r requirements.txt (line 22)) (3.4.1)\n",
            "Requirement already satisfied: tensorboard-plugin-wit>=1.6.0 in /usr/local/lib/python3.8/dist-packages (from tensorboard>=2.4.1->-r requirements.txt (line 22)) (1.8.1)\n",
            "Requirement already satisfied: google-auth-oauthlib<0.5,>=0.4.1 in /usr/local/lib/python3.8/dist-packages (from tensorboard>=2.4.1->-r requirements.txt (line 22)) (0.4.6)\n",
            "Requirement already satisfied: absl-py>=0.4 in /usr/local/lib/python3.8/dist-packages (from tensorboard>=2.4.1->-r requirements.txt (line 22)) (1.4.0)\n",
            "Requirement already satisfied: google-auth<3,>=1.6.3 in /usr/local/lib/python3.8/dist-packages (from tensorboard>=2.4.1->-r requirements.txt (line 22)) (2.16.0)\n",
            "Requirement already satisfied: pytz>=2017.3 in /usr/local/lib/python3.8/dist-packages (from pandas>=1.1.4->-r requirements.txt (line 27)) (2022.7.1)\n",
            "Collecting smmap<6,>=3.0.1\n",
            "  Downloading smmap-5.0.0-py3-none-any.whl (24 kB)\n",
            "Requirement already satisfied: pyasn1-modules>=0.2.1 in /usr/local/lib/python3.8/dist-packages (from google-auth<3,>=1.6.3->tensorboard>=2.4.1->-r requirements.txt (line 22)) (0.2.8)\n",
            "Requirement already satisfied: cachetools<6.0,>=2.0.0 in /usr/local/lib/python3.8/dist-packages (from google-auth<3,>=1.6.3->tensorboard>=2.4.1->-r requirements.txt (line 22)) (5.3.0)\n",
            "Requirement already satisfied: six>=1.9.0 in /usr/local/lib/python3.8/dist-packages (from google-auth<3,>=1.6.3->tensorboard>=2.4.1->-r requirements.txt (line 22)) (1.15.0)\n",
            "Requirement already satisfied: rsa<5,>=3.1.4 in /usr/local/lib/python3.8/dist-packages (from google-auth<3,>=1.6.3->tensorboard>=2.4.1->-r requirements.txt (line 22)) (4.9)\n",
            "Requirement already satisfied: requests-oauthlib>=0.7.0 in /usr/local/lib/python3.8/dist-packages (from google-auth-oauthlib<0.5,>=0.4.1->tensorboard>=2.4.1->-r requirements.txt (line 22)) (1.3.1)\n",
            "Requirement already satisfied: parso<0.9.0,>=0.8.0 in /usr/local/lib/python3.8/dist-packages (from jedi>=0.10->ipython->-r requirements.txt (line 6)) (0.8.3)\n",
            "Requirement already satisfied: importlib-metadata>=4.4 in /usr/local/lib/python3.8/dist-packages (from markdown>=2.6.8->tensorboard>=2.4.1->-r requirements.txt (line 22)) (6.0.0)\n",
            "Requirement already satisfied: wcwidth in /usr/local/lib/python3.8/dist-packages (from prompt-toolkit<2.1.0,>=2.0.0->ipython->-r requirements.txt (line 6)) (0.2.6)\n",
            "Requirement already satisfied: ptyprocess>=0.5 in /usr/local/lib/python3.8/dist-packages (from pexpect->ipython->-r requirements.txt (line 6)) (0.7.0)\n",
            "Requirement already satisfied: zipp>=0.5 in /usr/local/lib/python3.8/dist-packages (from importlib-metadata>=4.4->markdown>=2.6.8->tensorboard>=2.4.1->-r requirements.txt (line 22)) (3.13.0)\n",
            "Requirement already satisfied: pyasn1<0.5.0,>=0.4.6 in /usr/local/lib/python3.8/dist-packages (from pyasn1-modules>=0.2.1->google-auth<3,>=1.6.3->tensorboard>=2.4.1->-r requirements.txt (line 22)) (0.4.8)\n",
            "Requirement already satisfied: oauthlib>=3.0.0 in /usr/local/lib/python3.8/dist-packages (from requests-oauthlib>=0.7.0->google-auth-oauthlib<0.5,>=0.4.1->tensorboard>=2.4.1->-r requirements.txt (line 22)) (3.2.2)\n",
            "Installing collected packages: smmap, setuptools, jedi, thop, gitdb, gitpython\n",
            "  Attempting uninstall: setuptools\n",
            "    Found existing installation: setuptools 57.4.0\n",
            "    Uninstalling setuptools-57.4.0:\n",
            "      Successfully uninstalled setuptools-57.4.0\n",
            "\u001b[31mERROR: pip's dependency resolver does not currently take into account all the packages that are installed. This behaviour is the source of the following dependency conflicts.\n",
            "cvxpy 1.2.3 requires setuptools<=64.0.2, but you have setuptools 67.3.2 which is incompatible.\u001b[0m\u001b[31m\n",
            "\u001b[0mSuccessfully installed gitdb-4.0.10 gitpython-3.1.31 jedi-0.18.2 setuptools-67.3.2 smmap-5.0.0 thop-0.1.1.post2209072238\n"
          ]
        }
      ]
    },
    {
      "cell_type": "code",
      "source": [
        "%cat /content/dataset/data.yaml"
      ],
      "metadata": {
        "colab": {
          "base_uri": "https://localhost:8080/"
        },
        "id": "RXvt1MCHM17a",
        "outputId": "3c783078-0f1c-468f-ef45-4b6e76eb404b"
      },
      "execution_count": 4,
      "outputs": [
        {
          "output_type": "stream",
          "name": "stdout",
          "text": [
            "cat: /content/dataset/data.yaml: No such file or directory\n"
          ]
        }
      ]
    },
    {
      "cell_type": "code",
      "source": [
        "%cd /\n",
        "from glob import glob\n",
        "\n",
        "img_list = glob('/content/dataset/images/*.jpg')\n",
        "\n",
        "print(len(img_list))"
      ],
      "metadata": {
        "colab": {
          "base_uri": "https://localhost:8080/"
        },
        "id": "Y9xYQOT9NIpy",
        "outputId": "cc3c3193-d25c-4d5e-bd47-7a1cab120a9c"
      },
      "execution_count": 13,
      "outputs": [
        {
          "output_type": "stream",
          "name": "stdout",
          "text": [
            "/\n",
            "2971\n"
          ]
        }
      ]
    },
    {
      "cell_type": "code",
      "source": [
        "from sklearn.model_selection import train_test_split\n",
        "\n",
        "train_img_list, val_img_list = train_test_split(img_list, test_size=0.2, random_state=2000)\n",
        "\n",
        "print(len(train_img_list), len(val_img_list))"
      ],
      "metadata": {
        "colab": {
          "base_uri": "https://localhost:8080/"
        },
        "id": "ELfpZoT0N1pS",
        "outputId": "926c6bf5-70b9-42fa-caee-f9666460f196"
      },
      "execution_count": 14,
      "outputs": [
        {
          "output_type": "stream",
          "name": "stdout",
          "text": [
            "2376 595\n"
          ]
        }
      ]
    },
    {
      "cell_type": "code",
      "source": [
        "with open('/content/dataset/train.txt', 'w') as f:\n",
        "  f.write('\\n'.join(train_img_list) + '\\n')\n",
        "\n",
        "with open('/content/dataset/val.txt', 'w') as f:\n",
        "  f.write('\\n'.join(train_img_list) + '\\n')"
      ],
      "metadata": {
        "id": "Qe1YyDzXOJ6a"
      },
      "execution_count": 15,
      "outputs": []
    },
    {
      "cell_type": "code",
      "source": [
        "import yaml\n",
        "\n",
        "with open('/content/dataset/data.yaml', 'r') as f:\n",
        "  data = yaml.safe_load(f)\n",
        "\n",
        "print(data)\n",
        "\n",
        "data['train'] = '/content/dataset/train.txt'\n",
        "data['val'] = '/content/dataset/val.txt'\n",
        "\n",
        "with open ('/content/dataset/data.yaml', 'w') as f:\n",
        "  yaml.dump(data, f)\n",
        "\n",
        "print(data)"
      ],
      "metadata": {
        "colab": {
          "base_uri": "https://localhost:8080/"
        },
        "id": "cY-PNlw2Ok-i",
        "outputId": "c2b5a8ad-bbdb-4d97-cd62-e2e58334c738"
      },
      "execution_count": 16,
      "outputs": [
        {
          "output_type": "stream",
          "name": "stdout",
          "text": [
            "{'train': '../train/images', 'val': '../valid/images', 'nc': 1, 'names': ['pistol']}\n",
            "{'train': '/content/dataset/train.txt', 'val': '/content/dataset/val.txt', 'nc': 1, 'names': ['pistol']}\n"
          ]
        }
      ]
    },
    {
      "cell_type": "code",
      "source": [
        "%cd /content/yolov5/\n",
        "\n",
        "!python train.py --img 416 --batch 16 --epochs 50 --data /content/dataset/data.yaml --cfg /content/yolov5/models/yolov5s.yaml --weights yolov5s.pt --name gun_yolov5s_results"
      ],
      "metadata": {
        "colab": {
          "base_uri": "https://localhost:8080/"
        },
        "id": "hjh-i5DXPWp7",
        "outputId": "f0bcf862-527e-4817-a2f7-f3b4f140d83b"
      },
      "execution_count": 17,
      "outputs": [
        {
          "output_type": "stream",
          "name": "stdout",
          "text": [
            "/content/yolov5\n",
            "\u001b[34m\u001b[1mtrain: \u001b[0mweights=yolov5s.pt, cfg=/content/yolov5/models/yolov5s.yaml, data=/content/dataset/data.yaml, hyp=data/hyps/hyp.scratch-low.yaml, epochs=50, batch_size=16, imgsz=416, rect=False, resume=False, nosave=False, noval=False, noautoanchor=False, noplots=False, evolve=None, bucket=, cache=None, image_weights=False, device=, multi_scale=False, single_cls=False, optimizer=SGD, sync_bn=False, workers=8, project=runs/train, name=gun_yolov5s_results, exist_ok=False, quad=False, cos_lr=False, label_smoothing=0.0, patience=100, freeze=[0], save_period=-1, seed=0, local_rank=-1, entity=None, upload_dataset=False, bbox_interval=-1, artifact_alias=latest\n",
            "\u001b[34m\u001b[1mgithub: \u001b[0mup to date with https://github.com/ultralytics/yolov5 ✅\n",
            "YOLOv5 🚀 v7.0-107-g7a972e8 Python-3.8.10 torch-1.13.1+cu116 CUDA:0 (Tesla T4, 15110MiB)\n",
            "\n",
            "\u001b[34m\u001b[1mhyperparameters: \u001b[0mlr0=0.01, lrf=0.01, momentum=0.937, weight_decay=0.0005, warmup_epochs=3.0, warmup_momentum=0.8, warmup_bias_lr=0.1, box=0.05, cls=0.5, cls_pw=1.0, obj=1.0, obj_pw=1.0, iou_t=0.2, anchor_t=4.0, fl_gamma=0.0, hsv_h=0.015, hsv_s=0.7, hsv_v=0.4, degrees=0.0, translate=0.1, scale=0.5, shear=0.0, perspective=0.0, flipud=0.0, fliplr=0.5, mosaic=1.0, mixup=0.0, copy_paste=0.0\n",
            "\u001b[34m\u001b[1mClearML: \u001b[0mrun 'pip install clearml' to automatically track, visualize and remotely train YOLOv5 🚀 in ClearML\n",
            "\u001b[34m\u001b[1mComet: \u001b[0mrun 'pip install comet_ml' to automatically track and visualize YOLOv5 🚀 runs in Comet\n",
            "\u001b[34m\u001b[1mTensorBoard: \u001b[0mStart with 'tensorboard --logdir runs/train', view at http://localhost:6006/\n",
            "2023-02-19 10:22:27.557708: I tensorflow/core/platform/cpu_feature_guard.cc:193] This TensorFlow binary is optimized with oneAPI Deep Neural Network Library (oneDNN) to use the following CPU instructions in performance-critical operations:  AVX2 FMA\n",
            "To enable them in other operations, rebuild TensorFlow with the appropriate compiler flags.\n",
            "2023-02-19 10:22:28.432443: W tensorflow/compiler/xla/stream_executor/platform/default/dso_loader.cc:64] Could not load dynamic library 'libnvinfer.so.7'; dlerror: libnvinfer.so.7: cannot open shared object file: No such file or directory; LD_LIBRARY_PATH: /usr/local/lib/python3.8/dist-packages/cv2/../../lib64:/usr/lib64-nvidia\n",
            "2023-02-19 10:22:28.432575: W tensorflow/compiler/xla/stream_executor/platform/default/dso_loader.cc:64] Could not load dynamic library 'libnvinfer_plugin.so.7'; dlerror: libnvinfer_plugin.so.7: cannot open shared object file: No such file or directory; LD_LIBRARY_PATH: /usr/local/lib/python3.8/dist-packages/cv2/../../lib64:/usr/lib64-nvidia\n",
            "2023-02-19 10:22:28.432594: W tensorflow/compiler/tf2tensorrt/utils/py_utils.cc:38] TF-TRT Warning: Cannot dlopen some TensorRT libraries. If you would like to use Nvidia GPU with TensorRT, please make sure the missing libraries mentioned above are installed properly.\n",
            "Downloading https://ultralytics.com/assets/Arial.ttf to /root/.config/Ultralytics/Arial.ttf...\n",
            "100% 755k/755k [00:00<00:00, 70.2MB/s]\n",
            "Downloading https://github.com/ultralytics/yolov5/releases/download/v7.0/yolov5s.pt to yolov5s.pt...\n",
            "100% 14.1M/14.1M [00:00<00:00, 366MB/s]\n",
            "\n",
            "Overriding model.yaml nc=80 with nc=1\n",
            "\n",
            "                 from  n    params  module                                  arguments                     \n",
            "  0                -1  1      3520  models.common.Conv                      [3, 32, 6, 2, 2]              \n",
            "  1                -1  1     18560  models.common.Conv                      [32, 64, 3, 2]                \n",
            "  2                -1  1     18816  models.common.C3                        [64, 64, 1]                   \n",
            "  3                -1  1     73984  models.common.Conv                      [64, 128, 3, 2]               \n",
            "  4                -1  2    115712  models.common.C3                        [128, 128, 2]                 \n",
            "  5                -1  1    295424  models.common.Conv                      [128, 256, 3, 2]              \n",
            "  6                -1  3    625152  models.common.C3                        [256, 256, 3]                 \n",
            "  7                -1  1   1180672  models.common.Conv                      [256, 512, 3, 2]              \n",
            "  8                -1  1   1182720  models.common.C3                        [512, 512, 1]                 \n",
            "  9                -1  1    656896  models.common.SPPF                      [512, 512, 5]                 \n",
            " 10                -1  1    131584  models.common.Conv                      [512, 256, 1, 1]              \n",
            " 11                -1  1         0  torch.nn.modules.upsampling.Upsample    [None, 2, 'nearest']          \n",
            " 12           [-1, 6]  1         0  models.common.Concat                    [1]                           \n",
            " 13                -1  1    361984  models.common.C3                        [512, 256, 1, False]          \n",
            " 14                -1  1     33024  models.common.Conv                      [256, 128, 1, 1]              \n",
            " 15                -1  1         0  torch.nn.modules.upsampling.Upsample    [None, 2, 'nearest']          \n",
            " 16           [-1, 4]  1         0  models.common.Concat                    [1]                           \n",
            " 17                -1  1     90880  models.common.C3                        [256, 128, 1, False]          \n",
            " 18                -1  1    147712  models.common.Conv                      [128, 128, 3, 2]              \n",
            " 19          [-1, 14]  1         0  models.common.Concat                    [1]                           \n",
            " 20                -1  1    296448  models.common.C3                        [256, 256, 1, False]          \n",
            " 21                -1  1    590336  models.common.Conv                      [256, 256, 3, 2]              \n",
            " 22          [-1, 10]  1         0  models.common.Concat                    [1]                           \n",
            " 23                -1  1   1182720  models.common.C3                        [512, 512, 1, False]          \n",
            " 24      [17, 20, 23]  1     16182  models.yolo.Detect                      [1, [[10, 13, 16, 30, 33, 23], [30, 61, 62, 45, 59, 119], [116, 90, 156, 198, 373, 326]], [128, 256, 512]]\n",
            "YOLOv5s summary: 214 layers, 7022326 parameters, 7022326 gradients, 15.9 GFLOPs\n",
            "\n",
            "Transferred 342/349 items from yolov5s.pt\n",
            "\u001b[34m\u001b[1mAMP: \u001b[0mchecks passed ✅\n",
            "\u001b[34m\u001b[1moptimizer:\u001b[0m SGD(lr=0.01) with parameter groups 57 weight(decay=0.0), 60 weight(decay=0.0005), 60 bias\n",
            "\u001b[34m\u001b[1malbumentations: \u001b[0mBlur(p=0.01, blur_limit=(3, 7)), MedianBlur(p=0.01, blur_limit=(3, 7)), ToGray(p=0.01), CLAHE(p=0.01, clip_limit=(1, 4.0), tile_grid_size=(8, 8))\n",
            "\u001b[34m\u001b[1mtrain: \u001b[0mScanning /content/dataset/train... 2376 images, 0 backgrounds, 0 corrupt: 100% 2376/2376 [00:01<00:00, 1994.73it/s]\n",
            "\u001b[34m\u001b[1mtrain: \u001b[0mNew cache created: /content/dataset/train.cache\n",
            "\u001b[34m\u001b[1mval: \u001b[0mScanning /content/dataset/val... 2376 images, 0 backgrounds, 0 corrupt: 100% 2376/2376 [00:03<00:00, 642.11it/s]\n",
            "\u001b[34m\u001b[1mval: \u001b[0mNew cache created: /content/dataset/val.cache\n",
            "\n",
            "\u001b[34m\u001b[1mAutoAnchor: \u001b[0m3.91 anchors/target, 1.000 Best Possible Recall (BPR). Current anchors are a good fit to dataset ✅\n",
            "Plotting labels to runs/train/gun_yolov5s_results/labels.jpg... \n",
            "Image sizes 416 train, 416 val\n",
            "Using 2 dataloader workers\n",
            "Logging results to \u001b[1mruns/train/gun_yolov5s_results\u001b[0m\n",
            "Starting training for 50 epochs...\n",
            "\n",
            "      Epoch    GPU_mem   box_loss   obj_loss   cls_loss  Instances       Size\n",
            "       0/49      1.71G     0.0869    0.02292          0         20        416: 100% 149/149 [00:43<00:00,  3.42it/s]\n",
            "                 Class     Images  Instances          P          R      mAP50   mAP50-95: 100% 75/75 [00:20<00:00,  3.74it/s]\n",
            "                   all       2376       2716       0.58      0.471      0.508      0.291\n",
            "\n",
            "      Epoch    GPU_mem   box_loss   obj_loss   cls_loss  Instances       Size\n",
            "       1/49      2.07G    0.05537    0.02033          0         23        416: 100% 149/149 [00:39<00:00,  3.73it/s]\n",
            "                 Class     Images  Instances          P          R      mAP50   mAP50-95: 100% 75/75 [00:18<00:00,  4.10it/s]\n",
            "                   all       2376       2716      0.632      0.651      0.615      0.379\n",
            "\n",
            "      Epoch    GPU_mem   box_loss   obj_loss   cls_loss  Instances       Size\n",
            "       2/49      2.07G    0.04894    0.01838          0         23        416: 100% 149/149 [00:39<00:00,  3.75it/s]\n",
            "                 Class     Images  Instances          P          R      mAP50   mAP50-95: 100% 75/75 [00:17<00:00,  4.19it/s]\n",
            "                   all       2376       2716      0.761      0.694      0.767      0.454\n",
            "\n",
            "      Epoch    GPU_mem   box_loss   obj_loss   cls_loss  Instances       Size\n",
            "       3/49      2.07G    0.04608    0.01742          0         18        416: 100% 149/149 [00:39<00:00,  3.80it/s]\n",
            "                 Class     Images  Instances          P          R      mAP50   mAP50-95: 100% 75/75 [00:18<00:00,  4.12it/s]\n",
            "                   all       2376       2716      0.795      0.716      0.803      0.499\n",
            "\n",
            "      Epoch    GPU_mem   box_loss   obj_loss   cls_loss  Instances       Size\n",
            "       4/49      2.07G    0.04272    0.01809          0         27        416: 100% 149/149 [00:38<00:00,  3.82it/s]\n",
            "                 Class     Images  Instances          P          R      mAP50   mAP50-95: 100% 75/75 [00:18<00:00,  4.09it/s]\n",
            "                   all       2376       2716      0.835       0.74      0.824      0.533\n",
            "\n",
            "      Epoch    GPU_mem   box_loss   obj_loss   cls_loss  Instances       Size\n",
            "       5/49      2.07G    0.04057    0.01665          0         20        416: 100% 149/149 [00:37<00:00,  3.97it/s]\n",
            "                 Class     Images  Instances          P          R      mAP50   mAP50-95: 100% 75/75 [00:19<00:00,  3.91it/s]\n",
            "                   all       2376       2716      0.846      0.781      0.862      0.564\n",
            "\n",
            "      Epoch    GPU_mem   box_loss   obj_loss   cls_loss  Instances       Size\n",
            "       6/49      2.07G    0.03999    0.01655          0         22        416: 100% 149/149 [00:37<00:00,  4.02it/s]\n",
            "                 Class     Images  Instances          P          R      mAP50   mAP50-95: 100% 75/75 [00:19<00:00,  3.90it/s]\n",
            "                   all       2376       2716      0.896      0.793      0.894      0.605\n",
            "\n",
            "      Epoch    GPU_mem   box_loss   obj_loss   cls_loss  Instances       Size\n",
            "       7/49      2.07G    0.03855    0.01634          0         16        416: 100% 149/149 [00:37<00:00,  3.99it/s]\n",
            "                 Class     Images  Instances          P          R      mAP50   mAP50-95: 100% 75/75 [00:18<00:00,  4.13it/s]\n",
            "                   all       2376       2716      0.862      0.795      0.881      0.591\n",
            "\n",
            "      Epoch    GPU_mem   box_loss   obj_loss   cls_loss  Instances       Size\n",
            "       8/49      2.07G    0.03747    0.01589          0         22        416: 100% 149/149 [00:38<00:00,  3.84it/s]\n",
            "                 Class     Images  Instances          P          R      mAP50   mAP50-95: 100% 75/75 [00:17<00:00,  4.20it/s]\n",
            "                   all       2376       2716      0.879      0.823      0.899      0.621\n",
            "\n",
            "      Epoch    GPU_mem   box_loss   obj_loss   cls_loss  Instances       Size\n",
            "       9/49      2.07G    0.03597    0.01531          0         18        416: 100% 149/149 [00:39<00:00,  3.80it/s]\n",
            "                 Class     Images  Instances          P          R      mAP50   mAP50-95: 100% 75/75 [00:18<00:00,  4.12it/s]\n",
            "                   all       2376       2716      0.914      0.844      0.923      0.647\n",
            "\n",
            "      Epoch    GPU_mem   box_loss   obj_loss   cls_loss  Instances       Size\n",
            "      10/49      2.07G    0.03496    0.01542          0         25        416: 100% 149/149 [00:39<00:00,  3.78it/s]\n",
            "                 Class     Images  Instances          P          R      mAP50   mAP50-95: 100% 75/75 [00:17<00:00,  4.20it/s]\n",
            "                   all       2376       2716      0.893      0.848      0.919      0.642\n",
            "\n",
            "      Epoch    GPU_mem   box_loss   obj_loss   cls_loss  Instances       Size\n",
            "      11/49      2.07G    0.03488    0.01506          0         18        416: 100% 149/149 [00:39<00:00,  3.80it/s]\n",
            "                 Class     Images  Instances          P          R      mAP50   mAP50-95: 100% 75/75 [00:17<00:00,  4.21it/s]\n",
            "                   all       2376       2716      0.906      0.852       0.93      0.664\n",
            "\n",
            "      Epoch    GPU_mem   box_loss   obj_loss   cls_loss  Instances       Size\n",
            "      12/49      2.07G    0.03449    0.01476          0         15        416: 100% 149/149 [00:38<00:00,  3.89it/s]\n",
            "                 Class     Images  Instances          P          R      mAP50   mAP50-95: 100% 75/75 [00:18<00:00,  4.09it/s]\n",
            "                   all       2376       2716      0.899      0.863      0.936      0.679\n",
            "\n",
            "      Epoch    GPU_mem   box_loss   obj_loss   cls_loss  Instances       Size\n",
            "      13/49      2.07G    0.03366    0.01482          0         22        416: 100% 149/149 [00:36<00:00,  4.05it/s]\n",
            "                 Class     Images  Instances          P          R      mAP50   mAP50-95: 100% 75/75 [00:19<00:00,  3.83it/s]\n",
            "                   all       2376       2716      0.914      0.872      0.938       0.69\n",
            "\n",
            "      Epoch    GPU_mem   box_loss   obj_loss   cls_loss  Instances       Size\n",
            "      14/49      2.07G    0.03309    0.01443          0         22        416: 100% 149/149 [00:37<00:00,  4.00it/s]\n",
            "                 Class     Images  Instances          P          R      mAP50   mAP50-95: 100% 75/75 [00:19<00:00,  3.94it/s]\n",
            "                   all       2376       2716      0.899      0.873      0.939      0.678\n",
            "\n",
            "      Epoch    GPU_mem   box_loss   obj_loss   cls_loss  Instances       Size\n",
            "      15/49      2.07G    0.03224    0.01407          0         24        416: 100% 149/149 [00:37<00:00,  3.96it/s]\n",
            "                 Class     Images  Instances          P          R      mAP50   mAP50-95: 100% 75/75 [00:18<00:00,  4.13it/s]\n",
            "                   all       2376       2716      0.916      0.881      0.948      0.697\n",
            "\n",
            "      Epoch    GPU_mem   box_loss   obj_loss   cls_loss  Instances       Size\n",
            "      16/49      2.07G    0.03229    0.01441          0         18        416: 100% 149/149 [00:38<00:00,  3.87it/s]\n",
            "                 Class     Images  Instances          P          R      mAP50   mAP50-95: 100% 75/75 [00:17<00:00,  4.19it/s]\n",
            "                   all       2376       2716      0.915       0.88      0.945      0.693\n",
            "\n",
            "      Epoch    GPU_mem   box_loss   obj_loss   cls_loss  Instances       Size\n",
            "      17/49      2.07G    0.03233    0.01404          0         19        416: 100% 149/149 [00:39<00:00,  3.82it/s]\n",
            "                 Class     Images  Instances          P          R      mAP50   mAP50-95: 100% 75/75 [00:17<00:00,  4.23it/s]\n",
            "                   all       2376       2716      0.915      0.892      0.957      0.712\n",
            "\n",
            "      Epoch    GPU_mem   box_loss   obj_loss   cls_loss  Instances       Size\n",
            "      18/49      2.07G    0.03107    0.01376          0         25        416: 100% 149/149 [00:38<00:00,  3.82it/s]\n",
            "                 Class     Images  Instances          P          R      mAP50   mAP50-95: 100% 75/75 [00:17<00:00,  4.23it/s]\n",
            "                   all       2376       2716      0.903        0.9       0.95      0.695\n",
            "\n",
            "      Epoch    GPU_mem   box_loss   obj_loss   cls_loss  Instances       Size\n",
            "      19/49      2.07G    0.03059    0.01322          0         15        416: 100% 149/149 [00:39<00:00,  3.82it/s]\n",
            "                 Class     Images  Instances          P          R      mAP50   mAP50-95: 100% 75/75 [00:18<00:00,  4.14it/s]\n",
            "                   all       2376       2716      0.915       0.91      0.961       0.72\n",
            "\n",
            "      Epoch    GPU_mem   box_loss   obj_loss   cls_loss  Instances       Size\n",
            "      20/49      2.07G    0.03068    0.01371          0         28        416: 100% 149/149 [00:38<00:00,  3.90it/s]\n",
            "                 Class     Images  Instances          P          R      mAP50   mAP50-95: 100% 75/75 [00:18<00:00,  3.96it/s]\n",
            "                   all       2376       2716      0.926       0.89      0.955      0.711\n",
            "\n",
            "      Epoch    GPU_mem   box_loss   obj_loss   cls_loss  Instances       Size\n",
            "      21/49      2.07G    0.03086     0.0135          0         21        416: 100% 149/149 [00:37<00:00,  4.01it/s]\n",
            "                 Class     Images  Instances          P          R      mAP50   mAP50-95: 100% 75/75 [00:19<00:00,  3.88it/s]\n",
            "                   all       2376       2716      0.933      0.909      0.964      0.718\n",
            "\n",
            "      Epoch    GPU_mem   box_loss   obj_loss   cls_loss  Instances       Size\n",
            "      22/49      2.07G    0.02964    0.01377          0         24        416: 100% 149/149 [00:36<00:00,  4.03it/s]\n",
            "                 Class     Images  Instances          P          R      mAP50   mAP50-95: 100% 75/75 [00:18<00:00,  4.12it/s]\n",
            "                   all       2376       2716       0.93      0.921      0.968      0.731\n",
            "\n",
            "      Epoch    GPU_mem   box_loss   obj_loss   cls_loss  Instances       Size\n",
            "      23/49      2.07G    0.02902    0.01326          0         16        416: 100% 149/149 [00:38<00:00,  3.88it/s]\n",
            "                 Class     Images  Instances          P          R      mAP50   mAP50-95: 100% 75/75 [00:17<00:00,  4.22it/s]\n",
            "                   all       2376       2716      0.919      0.925      0.969      0.734\n",
            "\n",
            "      Epoch    GPU_mem   box_loss   obj_loss   cls_loss  Instances       Size\n",
            "      24/49      2.07G    0.02915    0.01338          0         18        416: 100% 149/149 [00:39<00:00,  3.78it/s]\n",
            "                 Class     Images  Instances          P          R      mAP50   mAP50-95: 100% 75/75 [00:17<00:00,  4.21it/s]\n",
            "                   all       2376       2716      0.935      0.915      0.965       0.73\n",
            "\n",
            "      Epoch    GPU_mem   box_loss   obj_loss   cls_loss  Instances       Size\n",
            "      25/49      2.07G    0.02867    0.01335          0         24        416: 100% 149/149 [00:39<00:00,  3.81it/s]\n",
            "                 Class     Images  Instances          P          R      mAP50   mAP50-95: 100% 75/75 [00:17<00:00,  4.20it/s]\n",
            "                   all       2376       2716      0.945      0.929      0.975      0.744\n",
            "\n",
            "      Epoch    GPU_mem   box_loss   obj_loss   cls_loss  Instances       Size\n",
            "      26/49      2.07G    0.02861    0.01288          0         18        416: 100% 149/149 [00:38<00:00,  3.84it/s]\n",
            "                 Class     Images  Instances          P          R      mAP50   mAP50-95: 100% 75/75 [00:18<00:00,  4.15it/s]\n",
            "                   all       2376       2716      0.933      0.932      0.972      0.755\n",
            "\n",
            "      Epoch    GPU_mem   box_loss   obj_loss   cls_loss  Instances       Size\n",
            "      27/49      2.07G    0.02848     0.0129          0         22        416: 100% 149/149 [00:38<00:00,  3.87it/s]\n",
            "                 Class     Images  Instances          P          R      mAP50   mAP50-95: 100% 75/75 [00:18<00:00,  4.04it/s]\n",
            "                   all       2376       2716      0.936      0.939      0.976       0.76\n",
            "\n",
            "      Epoch    GPU_mem   box_loss   obj_loss   cls_loss  Instances       Size\n",
            "      28/49      2.07G    0.02729    0.01291          0         22        416: 100% 149/149 [00:37<00:00,  3.97it/s]\n",
            "                 Class     Images  Instances          P          R      mAP50   mAP50-95: 100% 75/75 [00:19<00:00,  3.84it/s]\n",
            "                   all       2376       2716      0.957      0.943      0.981      0.764\n",
            "\n",
            "      Epoch    GPU_mem   box_loss   obj_loss   cls_loss  Instances       Size\n",
            "      29/49      2.07G    0.02686    0.01245          0         18        416: 100% 149/149 [00:36<00:00,  4.05it/s]\n",
            "                 Class     Images  Instances          P          R      mAP50   mAP50-95: 100% 75/75 [00:18<00:00,  3.96it/s]\n",
            "                   all       2376       2716      0.954      0.943      0.981      0.766\n",
            "\n",
            "      Epoch    GPU_mem   box_loss   obj_loss   cls_loss  Instances       Size\n",
            "      30/49      2.07G    0.02728    0.01238          0         17        416: 100% 149/149 [00:37<00:00,  3.94it/s]\n",
            "                 Class     Images  Instances          P          R      mAP50   mAP50-95: 100% 75/75 [00:17<00:00,  4.22it/s]\n",
            "                   all       2376       2716      0.953      0.947      0.982      0.783\n",
            "\n",
            "      Epoch    GPU_mem   box_loss   obj_loss   cls_loss  Instances       Size\n",
            "      31/49      2.07G    0.02657    0.01221          0         20        416: 100% 149/149 [00:38<00:00,  3.84it/s]\n",
            "                 Class     Images  Instances          P          R      mAP50   mAP50-95: 100% 75/75 [00:17<00:00,  4.24it/s]\n",
            "                   all       2376       2716      0.956      0.952      0.982       0.78\n",
            "\n",
            "      Epoch    GPU_mem   box_loss   obj_loss   cls_loss  Instances       Size\n",
            "      32/49      2.07G    0.02681    0.01261          0         23        416: 100% 149/149 [00:38<00:00,  3.82it/s]\n",
            "                 Class     Images  Instances          P          R      mAP50   mAP50-95: 100% 75/75 [00:18<00:00,  4.12it/s]\n",
            "                   all       2376       2716      0.953      0.949      0.984       0.78\n",
            "\n",
            "      Epoch    GPU_mem   box_loss   obj_loss   cls_loss  Instances       Size\n",
            "      33/49      2.07G    0.02619    0.01223          0         25        416: 100% 149/149 [00:39<00:00,  3.81it/s]\n",
            "                 Class     Images  Instances          P          R      mAP50   mAP50-95: 100% 75/75 [00:17<00:00,  4.18it/s]\n",
            "                   all       2376       2716       0.96      0.964      0.987      0.794\n",
            "\n",
            "      Epoch    GPU_mem   box_loss   obj_loss   cls_loss  Instances       Size\n",
            "      34/49      2.07G    0.02588    0.01225          0         18        416: 100% 149/149 [00:38<00:00,  3.86it/s]\n",
            "                 Class     Images  Instances          P          R      mAP50   mAP50-95: 100% 75/75 [00:18<00:00,  4.05it/s]\n",
            "                   all       2376       2716      0.955      0.966      0.985      0.787\n",
            "\n",
            "      Epoch    GPU_mem   box_loss   obj_loss   cls_loss  Instances       Size\n",
            "      35/49      2.07G     0.0253    0.01205          0         17        416: 100% 149/149 [00:37<00:00,  3.97it/s]\n",
            "                 Class     Images  Instances          P          R      mAP50   mAP50-95: 100% 75/75 [00:19<00:00,  3.85it/s]\n",
            "                   all       2376       2716      0.958      0.971      0.987      0.796\n",
            "\n",
            "      Epoch    GPU_mem   box_loss   obj_loss   cls_loss  Instances       Size\n",
            "      36/49      2.07G     0.0255    0.01179          0         20        416: 100% 149/149 [00:36<00:00,  4.04it/s]\n",
            "                 Class     Images  Instances          P          R      mAP50   mAP50-95: 100% 75/75 [00:19<00:00,  3.93it/s]\n",
            "                   all       2376       2716       0.96      0.973      0.987      0.801\n",
            "\n",
            "      Epoch    GPU_mem   box_loss   obj_loss   cls_loss  Instances       Size\n",
            "      37/49      2.07G    0.02479    0.01165          0         16        416: 100% 149/149 [00:36<00:00,  4.03it/s]\n",
            "                 Class     Images  Instances          P          R      mAP50   mAP50-95: 100% 75/75 [00:17<00:00,  4.17it/s]\n",
            "                   all       2376       2716      0.962      0.971      0.989        0.8\n",
            "\n",
            "      Epoch    GPU_mem   box_loss   obj_loss   cls_loss  Instances       Size\n",
            "      38/49      2.07G    0.02433    0.01155          0         18        416: 100% 149/149 [00:38<00:00,  3.86it/s]\n",
            "                 Class     Images  Instances          P          R      mAP50   mAP50-95: 100% 75/75 [00:17<00:00,  4.20it/s]\n",
            "                   all       2376       2716      0.962      0.972      0.989      0.805\n",
            "\n",
            "      Epoch    GPU_mem   box_loss   obj_loss   cls_loss  Instances       Size\n",
            "      39/49      2.07G    0.02464    0.01146          0         17        416: 100% 149/149 [00:38<00:00,  3.83it/s]\n",
            "                 Class     Images  Instances          P          R      mAP50   mAP50-95: 100% 75/75 [00:17<00:00,  4.20it/s]\n",
            "                   all       2376       2716      0.969      0.976      0.989      0.808\n",
            "\n",
            "      Epoch    GPU_mem   box_loss   obj_loss   cls_loss  Instances       Size\n",
            "      40/49      2.07G    0.02447    0.01122          0         15        416: 100% 149/149 [00:38<00:00,  3.84it/s]\n",
            "                 Class     Images  Instances          P          R      mAP50   mAP50-95: 100% 75/75 [00:18<00:00,  4.15it/s]\n",
            "                   all       2376       2716      0.971      0.977       0.99      0.814\n",
            "\n",
            "      Epoch    GPU_mem   box_loss   obj_loss   cls_loss  Instances       Size\n",
            "      41/49      2.07G    0.02448    0.01138          0         24        416: 100% 149/149 [00:37<00:00,  3.93it/s]\n",
            "                 Class     Images  Instances          P          R      mAP50   mAP50-95: 100% 75/75 [00:19<00:00,  3.93it/s]\n",
            "                   all       2376       2716      0.967      0.976       0.99      0.808\n",
            "\n",
            "      Epoch    GPU_mem   box_loss   obj_loss   cls_loss  Instances       Size\n",
            "      42/49      2.07G     0.0235    0.01118          0         21        416: 100% 149/149 [00:37<00:00,  4.00it/s]\n",
            "                 Class     Images  Instances          P          R      mAP50   mAP50-95: 100% 75/75 [00:19<00:00,  3.86it/s]\n",
            "                   all       2376       2716      0.972      0.974       0.99      0.824\n",
            "\n",
            "      Epoch    GPU_mem   box_loss   obj_loss   cls_loss  Instances       Size\n",
            "      43/49      2.07G    0.02355    0.01113          0         23        416: 100% 149/149 [00:36<00:00,  4.04it/s]\n",
            "                 Class     Images  Instances          P          R      mAP50   mAP50-95: 100% 75/75 [00:18<00:00,  4.11it/s]\n",
            "                   all       2376       2716      0.968      0.982      0.991      0.824\n",
            "\n",
            "      Epoch    GPU_mem   box_loss   obj_loss   cls_loss  Instances       Size\n",
            "      44/49      2.07G    0.02302    0.01105          0         22        416: 100% 149/149 [00:38<00:00,  3.91it/s]\n",
            "                 Class     Images  Instances          P          R      mAP50   mAP50-95: 100% 75/75 [00:17<00:00,  4.20it/s]\n",
            "                   all       2376       2716       0.97       0.98      0.991      0.821\n",
            "\n",
            "      Epoch    GPU_mem   box_loss   obj_loss   cls_loss  Instances       Size\n",
            "      45/49      2.07G    0.02328    0.01121          0         19        416: 100% 149/149 [00:39<00:00,  3.79it/s]\n",
            "                 Class     Images  Instances          P          R      mAP50   mAP50-95: 100% 75/75 [00:17<00:00,  4.22it/s]\n",
            "                   all       2376       2716      0.981      0.974      0.991      0.824\n",
            "\n",
            "      Epoch    GPU_mem   box_loss   obj_loss   cls_loss  Instances       Size\n",
            "      46/49      2.07G    0.02247    0.01091          0         20        416: 100% 149/149 [00:39<00:00,  3.75it/s]\n",
            "                 Class     Images  Instances          P          R      mAP50   mAP50-95: 100% 75/75 [00:18<00:00,  4.15it/s]\n",
            "                   all       2376       2716      0.973      0.981      0.991      0.828\n",
            "\n",
            "      Epoch    GPU_mem   box_loss   obj_loss   cls_loss  Instances       Size\n",
            "      47/49      2.07G    0.02252    0.01107          0         18        416: 100% 149/149 [00:39<00:00,  3.76it/s]\n",
            "                 Class     Images  Instances          P          R      mAP50   mAP50-95: 100% 75/75 [00:17<00:00,  4.17it/s]\n",
            "                   all       2376       2716      0.974      0.985      0.992      0.831\n",
            "\n",
            "      Epoch    GPU_mem   box_loss   obj_loss   cls_loss  Instances       Size\n",
            "      48/49      2.07G    0.02292    0.01076          0         16        416: 100% 149/149 [00:39<00:00,  3.76it/s]\n",
            "                 Class     Images  Instances          P          R      mAP50   mAP50-95: 100% 75/75 [00:18<00:00,  4.16it/s]\n",
            "                   all       2376       2716      0.972      0.984      0.992      0.834\n",
            "\n",
            "      Epoch    GPU_mem   box_loss   obj_loss   cls_loss  Instances       Size\n",
            "      49/49      2.07G    0.02205    0.01069          0         22        416: 100% 149/149 [00:38<00:00,  3.89it/s]\n",
            "                 Class     Images  Instances          P          R      mAP50   mAP50-95: 100% 75/75 [00:18<00:00,  4.03it/s]\n",
            "                   all       2376       2716      0.976      0.983      0.992      0.837\n",
            "\n",
            "50 epochs completed in 0.797 hours.\n",
            "Optimizer stripped from runs/train/gun_yolov5s_results/weights/last.pt, 14.3MB\n",
            "Optimizer stripped from runs/train/gun_yolov5s_results/weights/best.pt, 14.3MB\n",
            "\n",
            "Validating runs/train/gun_yolov5s_results/weights/best.pt...\n",
            "Fusing layers... \n",
            "YOLOv5s summary: 157 layers, 7012822 parameters, 0 gradients, 15.8 GFLOPs\n",
            "                 Class     Images  Instances          P          R      mAP50   mAP50-95: 100% 75/75 [00:20<00:00,  3.66it/s]\n",
            "                   all       2376       2716      0.976      0.983      0.992      0.837\n",
            "Results saved to \u001b[1mruns/train/gun_yolov5s_results\u001b[0m\n"
          ]
        }
      ]
    },
    {
      "cell_type": "code",
      "source": [
        "%load_ext tensorboard\n",
        "%tensorboard --logdir /content/yolov5/runs/"
      ],
      "metadata": {
        "id": "4dXTB6VOQFGg"
      },
      "execution_count": null,
      "outputs": []
    },
    {
      "cell_type": "code",
      "source": [
        "from IPython.display import Image\n",
        "import os\n",
        "\n",
        "val_img_path = val_img_list[0]\n",
        "\n",
        "!python detect.py --weights /content/yolov5/runs/train/gun_yolov5s_results/weights/best.pt --img 416 --conf 0.5 --source \"{val_img_path}\""
      ],
      "metadata": {
        "colab": {
          "base_uri": "https://localhost:8080/"
        },
        "id": "CSTXS0cuc3bX",
        "outputId": "8bb16978-2210-4dc4-8b05-68077e6219d5"
      },
      "execution_count": 22,
      "outputs": [
        {
          "output_type": "stream",
          "name": "stdout",
          "text": [
            "\u001b[34m\u001b[1mdetect: \u001b[0mweights=['/content/yolov5/runs/train/gun_yolov5s_results/weights/best.pt'], source=/content/dataset/images/armas (1875)_jpg.rf.af6f4598b6340b2bdce1a8fb06242bef.jpg, data=data/coco128.yaml, imgsz=[416, 416], conf_thres=0.5, iou_thres=0.45, max_det=1000, device=, view_img=False, save_txt=False, save_conf=False, save_crop=False, nosave=False, classes=None, agnostic_nms=False, augment=False, visualize=False, update=False, project=runs/detect, name=exp, exist_ok=False, line_thickness=3, hide_labels=False, hide_conf=False, half=False, dnn=False, vid_stride=1\n",
            "YOLOv5 🚀 v7.0-107-g7a972e8 Python-3.8.10 torch-1.13.1+cu116 CUDA:0 (Tesla T4, 15110MiB)\n",
            "\n",
            "Fusing layers... \n",
            "YOLOv5s summary: 157 layers, 7012822 parameters, 0 gradients, 15.8 GFLOPs\n",
            "image 1/1 /content/dataset/images/armas (1875)_jpg.rf.af6f4598b6340b2bdce1a8fb06242bef.jpg: 416x416 1 pistol, 8.1ms\n",
            "Speed: 0.4ms pre-process, 8.1ms inference, 1.5ms NMS per image at shape (1, 3, 416, 416)\n",
            "Results saved to \u001b[1mruns/detect/exp4\u001b[0m\n"
          ]
        }
      ]
    }
  ]
}
